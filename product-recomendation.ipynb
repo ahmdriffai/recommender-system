{
 "cells": [
  {
   "cell_type": "code",
   "execution_count": 236,
   "metadata": {},
   "outputs": [
    {
     "data": {
      "text/plain": [
       "10"
      ]
     },
     "execution_count": 236,
     "metadata": {},
     "output_type": "execute_result"
    }
   ],
   "source": [
    "import pandas as pd\n",
    "import numpy as np\n",
    "from copy import deepcopy\n",
    "from scipy.spatial.distance import pdist, squareform\n",
    "import matplotlib.pyplot as plt\n",
    "import requests\n",
    "\n",
    "productapi = requests.get('http://127.0.0.1:8000/api/product').json()\n",
    "product = pd.DataFrame(productapi)\n",
    "product.rename(columns={\n",
    "    'id': 'product_id'\n",
    "}, inplace=True)\n",
    "\n",
    "ratingapi = requests.get('http://127.0.0.1:8000/api/rating').json()\n",
    "rating = pd.DataFrame(ratingapi)\n",
    "rating\n",
    "\n",
    "df = pd.merge(rating, product, on='product_id', how='inner')\n",
    "\n",
    "utility = df.pivot(index = 'product_id', columns = 'user_id', values = 'rating')\n",
    "utility = utility.fillna(0)\n",
    "a = rating.groupby('product_id')\n",
    "b = a.first()\n",
    "cc = b['id'].index[1].item()\n",
    "\n",
    "cc"
   ]
  },
  {
   "cell_type": "code",
   "execution_count": 216,
   "metadata": {},
   "outputs": [
    {
     "data": {
      "text/html": [
       "<div>\n",
       "<style scoped>\n",
       "    .dataframe tbody tr th:only-of-type {\n",
       "        vertical-align: middle;\n",
       "    }\n",
       "\n",
       "    .dataframe tbody tr th {\n",
       "        vertical-align: top;\n",
       "    }\n",
       "\n",
       "    .dataframe thead th {\n",
       "        text-align: right;\n",
       "    }\n",
       "</style>\n",
       "<table border=\"1\" class=\"dataframe\">\n",
       "  <thead>\n",
       "    <tr style=\"text-align: right;\">\n",
       "      <th>user_id</th>\n",
       "      <th>1</th>\n",
       "      <th>2</th>\n",
       "      <th>3</th>\n",
       "      <th>4</th>\n",
       "      <th>6</th>\n",
       "    </tr>\n",
       "    <tr>\n",
       "      <th>name</th>\n",
       "      <th></th>\n",
       "      <th></th>\n",
       "      <th></th>\n",
       "      <th></th>\n",
       "      <th></th>\n",
       "    </tr>\n",
       "  </thead>\n",
       "  <tbody>\n",
       "    <tr>\n",
       "      <th>Desain Banner</th>\n",
       "      <td>0.0</td>\n",
       "      <td>0.0</td>\n",
       "      <td>0.0</td>\n",
       "      <td>0.0</td>\n",
       "      <td>5.0</td>\n",
       "    </tr>\n",
       "    <tr>\n",
       "      <th>Desain Logo</th>\n",
       "      <td>5.0</td>\n",
       "      <td>5.0</td>\n",
       "      <td>0.0</td>\n",
       "      <td>0.0</td>\n",
       "      <td>0.0</td>\n",
       "    </tr>\n",
       "    <tr>\n",
       "      <th>E-Kasir Mobile App</th>\n",
       "      <td>5.0</td>\n",
       "      <td>0.0</td>\n",
       "      <td>5.0</td>\n",
       "      <td>5.0</td>\n",
       "      <td>4.5</td>\n",
       "    </tr>\n",
       "    <tr>\n",
       "      <th>Logitech Keyboard &amp; Mouse</th>\n",
       "      <td>0.0</td>\n",
       "      <td>0.0</td>\n",
       "      <td>5.0</td>\n",
       "      <td>0.0</td>\n",
       "      <td>5.0</td>\n",
       "    </tr>\n",
       "  </tbody>\n",
       "</table>\n",
       "</div>"
      ],
      "text/plain": [
       "user_id                      1    2    3    4    6\n",
       "name                                              \n",
       "Desain Banner              0.0  0.0  0.0  0.0  5.0\n",
       "Desain Logo                5.0  5.0  0.0  0.0  0.0\n",
       "E-Kasir Mobile App         5.0  0.0  5.0  5.0  4.5\n",
       "Logitech Keyboard & Mouse  0.0  0.0  5.0  0.0  5.0"
      ]
     },
     "execution_count": 216,
     "metadata": {},
     "output_type": "execute_result"
    }
   ],
   "source": [
    "utility"
   ]
  },
  {
   "cell_type": "code",
   "execution_count": 237,
   "metadata": {},
   "outputs": [
    {
     "data": {
      "text/html": [
       "<div>\n",
       "<style scoped>\n",
       "    .dataframe tbody tr th:only-of-type {\n",
       "        vertical-align: middle;\n",
       "    }\n",
       "\n",
       "    .dataframe tbody tr th {\n",
       "        vertical-align: top;\n",
       "    }\n",
       "\n",
       "    .dataframe thead th {\n",
       "        text-align: right;\n",
       "    }\n",
       "</style>\n",
       "<table border=\"1\" class=\"dataframe\">\n",
       "  <thead>\n",
       "    <tr style=\"text-align: right;\">\n",
       "      <th></th>\n",
       "      <th>product_id</th>\n",
       "      <th>name</th>\n",
       "      <th>description</th>\n",
       "      <th>image</th>\n",
       "      <th>price</th>\n",
       "      <th>weigth</th>\n",
       "      <th>categories_id</th>\n",
       "      <th>created_at</th>\n",
       "      <th>updated_at</th>\n",
       "      <th>stok</th>\n",
       "    </tr>\n",
       "  </thead>\n",
       "  <tbody>\n",
       "    <tr>\n",
       "      <th>0</th>\n",
       "      <td>1</td>\n",
       "      <td>Sistem Keuangan</td>\n",
       "      <td>-</td>\n",
       "      <td>imageproduct/ayeuVUSTTyRKGTH0FHlz1nE1WrNBBLq8W...</td>\n",
       "      <td>15000000</td>\n",
       "      <td>0</td>\n",
       "      <td>1</td>\n",
       "      <td>2023-10-02T04:58:19.000000Z</td>\n",
       "      <td>2023-10-02T04:58:19.000000Z</td>\n",
       "      <td>100</td>\n",
       "    </tr>\n",
       "    <tr>\n",
       "      <th>1</th>\n",
       "      <td>2</td>\n",
       "      <td>Sistem Penjaminan Mutu</td>\n",
       "      <td>-</td>\n",
       "      <td>imageproduct/Qbn54KgkBPtnDr0ASoTmFaKf5We7orwlj...</td>\n",
       "      <td>10000000</td>\n",
       "      <td>0</td>\n",
       "      <td>1</td>\n",
       "      <td>2023-10-02T04:58:49.000000Z</td>\n",
       "      <td>2023-10-02T04:58:49.000000Z</td>\n",
       "      <td>100</td>\n",
       "    </tr>\n",
       "    <tr>\n",
       "      <th>2</th>\n",
       "      <td>3</td>\n",
       "      <td>Digital Librari</td>\n",
       "      <td>-</td>\n",
       "      <td>imageproduct/oycPzvgAOyoMStS8NMxHvLPy6kr8WfGjB...</td>\n",
       "      <td>7000000</td>\n",
       "      <td>0</td>\n",
       "      <td>1</td>\n",
       "      <td>2023-10-02T05:15:08.000000Z</td>\n",
       "      <td>2023-10-02T05:15:08.000000Z</td>\n",
       "      <td>1000</td>\n",
       "    </tr>\n",
       "    <tr>\n",
       "      <th>3</th>\n",
       "      <td>4</td>\n",
       "      <td>E-Fakultas</td>\n",
       "      <td>-</td>\n",
       "      <td>imageproduct/9flpnfbFmGqD9R2WIX7Lp2FvK7wPWD48X...</td>\n",
       "      <td>50000000</td>\n",
       "      <td>0</td>\n",
       "      <td>1</td>\n",
       "      <td>2023-10-02T05:51:37.000000Z</td>\n",
       "      <td>2023-10-02T05:51:37.000000Z</td>\n",
       "      <td>0</td>\n",
       "    </tr>\n",
       "    <tr>\n",
       "      <th>4</th>\n",
       "      <td>5</td>\n",
       "      <td>Motherboard</td>\n",
       "      <td>-</td>\n",
       "      <td>imageproduct/P5h1UgS9MVMhPMbAyle5saT5vzyCzP6df...</td>\n",
       "      <td>2000000</td>\n",
       "      <td>1000</td>\n",
       "      <td>2</td>\n",
       "      <td>2023-10-14T07:09:38.000000Z</td>\n",
       "      <td>2023-10-14T07:09:38.000000Z</td>\n",
       "      <td>100</td>\n",
       "    </tr>\n",
       "  </tbody>\n",
       "</table>\n",
       "</div>"
      ],
      "text/plain": [
       "   product_id                    name description   \n",
       "0           1         Sistem Keuangan           -  \\\n",
       "1           2  Sistem Penjaminan Mutu           -   \n",
       "2           3         Digital Librari           -   \n",
       "3           4              E-Fakultas           -   \n",
       "4           5             Motherboard           -   \n",
       "\n",
       "                                               image     price  weigth   \n",
       "0  imageproduct/ayeuVUSTTyRKGTH0FHlz1nE1WrNBBLq8W...  15000000       0  \\\n",
       "1  imageproduct/Qbn54KgkBPtnDr0ASoTmFaKf5We7orwlj...  10000000       0   \n",
       "2  imageproduct/oycPzvgAOyoMStS8NMxHvLPy6kr8WfGjB...   7000000       0   \n",
       "3  imageproduct/9flpnfbFmGqD9R2WIX7Lp2FvK7wPWD48X...  50000000       0   \n",
       "4  imageproduct/P5h1UgS9MVMhPMbAyle5saT5vzyCzP6df...   2000000    1000   \n",
       "\n",
       "   categories_id                   created_at                   updated_at   \n",
       "0              1  2023-10-02T04:58:19.000000Z  2023-10-02T04:58:19.000000Z  \\\n",
       "1              1  2023-10-02T04:58:49.000000Z  2023-10-02T04:58:49.000000Z   \n",
       "2              1  2023-10-02T05:15:08.000000Z  2023-10-02T05:15:08.000000Z   \n",
       "3              1  2023-10-02T05:51:37.000000Z  2023-10-02T05:51:37.000000Z   \n",
       "4              2  2023-10-14T07:09:38.000000Z  2023-10-14T07:09:38.000000Z   \n",
       "\n",
       "   stok  \n",
       "0   100  \n",
       "1   100  \n",
       "2  1000  \n",
       "3     0  \n",
       "4   100  "
      ]
     },
     "execution_count": 237,
     "metadata": {},
     "output_type": "execute_result"
    }
   ],
   "source": [
    "product.head()"
   ]
  },
  {
   "cell_type": "code",
   "execution_count": 218,
   "metadata": {},
   "outputs": [],
   "source": [
    "# filter = product['name'] == \"VGA Full\"\n",
    "ft = product.loc[product['product_id'] == 2]['image'].values\n"
   ]
  },
  {
   "cell_type": "code",
   "execution_count": 238,
   "metadata": {},
   "outputs": [
    {
     "data": {
      "text/plain": [
       "<matplotlib.image.AxesImage at 0x11d247df0>"
      ]
     },
     "execution_count": 238,
     "metadata": {},
     "output_type": "execute_result"
    },
    {
     "data": {
      "image/png": "[encoded data removed]",
      "text/plain": [
       "<Figure size 640x480 with 1 Axes>"
      ]
     },
     "metadata": {},
     "output_type": "display_data"
    }
   ],
   "source": [
    "# similarity = 1- distance\n",
    "# distance_mtx = squareform(pdist(utility, 'cosine'))\n",
    "# similarity_mtx = 1- distance_mtx\n",
    "\n",
    "item_similarity = utility.T.corr()\n",
    "similarity_mtx = item_similarity.to_numpy()\n",
    "\n",
    "plt.imshow(similarity_mtx, cmap = 'Blues')"
   ]
  },
  {
   "cell_type": "code",
   "execution_count": 239,
   "metadata": {},
   "outputs": [
    {
     "data": {
      "text/plain": [
       "array([[ 1.        , -0.16666667, -0.16666667],\n",
       "       [-0.16666667,  1.        , -0.66666667],\n",
       "       [-0.16666667, -0.66666667,  1.        ]])"
      ]
     },
     "execution_count": 239,
     "metadata": {},
     "output_type": "execute_result"
    }
   ],
   "source": [
    "similarity_mtx"
   ]
  },
  {
   "cell_type": "code",
   "execution_count": null,
   "metadata": {},
   "outputs": [],
   "source": []
  },
  {
   "cell_type": "code",
   "execution_count": 240,
   "metadata": {},
   "outputs": [
    {
     "name": "stdout",
     "output_type": "stream",
     "text": [
      "5.0\n"
     ]
    },
    {
     "data": {
      "text/plain": [
       "product_id\n",
       "9     0.0\n",
       "10    5.0\n",
       "19    0.0\n",
       "Name: 2, dtype: float64"
      ]
     },
     "execution_count": 240,
     "metadata": {},
     "output_type": "execute_result"
    }
   ],
   "source": [
    "# Let's predict the rating of user2 on item 3\n",
    "user_to_predict = 2\n",
    "item_to_predict = 1\n",
    "\n",
    "user2_ratings = utility.iloc[:,user_to_predict-1]\n",
    "item3_similarity = similarity_mtx[item_to_predict-1]\n",
    "\n",
    "numerator = np.dot(user2_ratings,item3_similarity)\n",
    "denom = item3_similarity[user2_ratings > 0].sum()\n",
    "prediction = numerator / denom\n",
    "print(prediction)\n",
    "user2_ratings"
   ]
  },
  {
   "cell_type": "code",
   "execution_count": 246,
   "metadata": {},
   "outputs": [
    {
     "ename": "IndexError",
     "evalue": "single positional indexer is out-of-bounds",
     "output_type": "error",
     "traceback": [
      "\u001b[0;31m---------------------------------------------------------------------------\u001b[0m",
      "\u001b[0;31mIndexError\u001b[0m                                Traceback (most recent call last)",
      "\u001b[1;32m/Users/user/Develomplent/assigment_service/recomender-system-tcd/product-recomendation.ipynb Cell 9\u001b[0m line \u001b[0;36m3\n\u001b[1;32m     <a href='vscode-notebook-cell:/Users/user/Develomplent/assigment_service/recomender-system-tcd/product-recomendation.ipynb#X10sZmlsZQ%3D%3D?line=28'>29</a>\u001b[0m         res\u001b[39m.\u001b[39mappend(\u001b[39mtuple\u001b[39m([b[\u001b[39m'\u001b[39m\u001b[39mid\u001b[39m\u001b[39m'\u001b[39m]\u001b[39m.\u001b[39mindex[i\u001b[39m-\u001b[39m\u001b[39m1\u001b[39m], pred_rating\u001b[39m.\u001b[39miloc[i]]))\n\u001b[1;32m     <a href='vscode-notebook-cell:/Users/user/Develomplent/assigment_service/recomender-system-tcd/product-recomendation.ipynb#X10sZmlsZQ%3D%3D?line=30'>31</a>\u001b[0m     \u001b[39mreturn\u001b[39;00m res\n\u001b[0;32m---> <a href='vscode-notebook-cell:/Users/user/Develomplent/assigment_service/recomender-system-tcd/product-recomendation.ipynb#X10sZmlsZQ%3D%3D?line=32'>33</a>\u001b[0m recommendation_to_user(\u001b[39m6\u001b[39;49m,\u001b[39m20\u001b[39;49m,similarity_mtx, utility)\n",
      "\u001b[1;32m/Users/user/Develomplent/assigment_service/recomender-system-tcd/product-recomendation.ipynb Cell 9\u001b[0m line \u001b[0;36m2\n\u001b[1;32m     <a href='vscode-notebook-cell:/Users/user/Develomplent/assigment_service/recomender-system-tcd/product-recomendation.ipynb#X10sZmlsZQ%3D%3D?line=20'>21</a>\u001b[0m \u001b[39mdef\u001b[39;00m \u001b[39mrecommendation_to_user\u001b[39m(userid, top_n, similarity_mtx, utility):\n\u001b[0;32m---> <a href='vscode-notebook-cell:/Users/user/Develomplent/assigment_service/recomender-system-tcd/product-recomendation.ipynb#X10sZmlsZQ%3D%3D?line=21'>22</a>\u001b[0m     user_rating \u001b[39m=\u001b[39m utility\u001b[39m.\u001b[39;49miloc[:,userid\u001b[39m-\u001b[39;49m\u001b[39m1\u001b[39;49m]\n\u001b[1;32m     <a href='vscode-notebook-cell:/Users/user/Develomplent/assigment_service/recomender-system-tcd/product-recomendation.ipynb#X10sZmlsZQ%3D%3D?line=22'>23</a>\u001b[0m     pred_rating \u001b[39m=\u001b[39m calculate_user_rating(userid, similarity_mtx, utility)\n\u001b[1;32m     <a href='vscode-notebook-cell:/Users/user/Develomplent/assigment_service/recomender-system-tcd/product-recomendation.ipynb#X10sZmlsZQ%3D%3D?line=24'>25</a>\u001b[0m     top_item \u001b[39m=\u001b[39m \u001b[39msorted\u001b[39m(\u001b[39mrange\u001b[39m(\u001b[39m1\u001b[39m,\u001b[39mlen\u001b[39m(pred_rating)), key \u001b[39m=\u001b[39m \u001b[39mlambda\u001b[39;00m i: \u001b[39m-\u001b[39m\u001b[39m1\u001b[39m\u001b[39m*\u001b[39mpred_rating\u001b[39m.\u001b[39miloc[i])\n",
      "File \u001b[0;32m~/Library/Python/3.9/lib/python/site-packages/pandas/core/indexing.py:1097\u001b[0m, in \u001b[0;36m_LocationIndexer.__getitem__\u001b[0;34m(self, key)\u001b[0m\n\u001b[1;32m   1095\u001b[0m     \u001b[39mif\u001b[39;00m \u001b[39mself\u001b[39m\u001b[39m.\u001b[39m_is_scalar_access(key):\n\u001b[1;32m   1096\u001b[0m         \u001b[39mreturn\u001b[39;00m \u001b[39mself\u001b[39m\u001b[39m.\u001b[39mobj\u001b[39m.\u001b[39m_get_value(\u001b[39m*\u001b[39mkey, takeable\u001b[39m=\u001b[39m\u001b[39mself\u001b[39m\u001b[39m.\u001b[39m_takeable)\n\u001b[0;32m-> 1097\u001b[0m     \u001b[39mreturn\u001b[39;00m \u001b[39mself\u001b[39;49m\u001b[39m.\u001b[39;49m_getitem_tuple(key)\n\u001b[1;32m   1098\u001b[0m \u001b[39melse\u001b[39;00m:\n\u001b[1;32m   1099\u001b[0m     \u001b[39m# we by definition only have the 0th axis\u001b[39;00m\n\u001b[1;32m   1100\u001b[0m     axis \u001b[39m=\u001b[39m \u001b[39mself\u001b[39m\u001b[39m.\u001b[39maxis \u001b[39mor\u001b[39;00m \u001b[39m0\u001b[39m\n",
      "File \u001b[0;32m~/Library/Python/3.9/lib/python/site-packages/pandas/core/indexing.py:1594\u001b[0m, in \u001b[0;36m_iLocIndexer._getitem_tuple\u001b[0;34m(self, tup)\u001b[0m\n\u001b[1;32m   1593\u001b[0m \u001b[39mdef\u001b[39;00m \u001b[39m_getitem_tuple\u001b[39m(\u001b[39mself\u001b[39m, tup: \u001b[39mtuple\u001b[39m):\n\u001b[0;32m-> 1594\u001b[0m     tup \u001b[39m=\u001b[39m \u001b[39mself\u001b[39;49m\u001b[39m.\u001b[39;49m_validate_tuple_indexer(tup)\n\u001b[1;32m   1595\u001b[0m     \u001b[39mwith\u001b[39;00m suppress(IndexingError):\n\u001b[1;32m   1596\u001b[0m         \u001b[39mreturn\u001b[39;00m \u001b[39mself\u001b[39m\u001b[39m.\u001b[39m_getitem_lowerdim(tup)\n",
      "File \u001b[0;32m~/Library/Python/3.9/lib/python/site-packages/pandas/core/indexing.py:904\u001b[0m, in \u001b[0;36m_LocationIndexer._validate_tuple_indexer\u001b[0;34m(self, key)\u001b[0m\n\u001b[1;32m    902\u001b[0m \u001b[39mfor\u001b[39;00m i, k \u001b[39min\u001b[39;00m \u001b[39menumerate\u001b[39m(key):\n\u001b[1;32m    903\u001b[0m     \u001b[39mtry\u001b[39;00m:\n\u001b[0;32m--> 904\u001b[0m         \u001b[39mself\u001b[39;49m\u001b[39m.\u001b[39;49m_validate_key(k, i)\n\u001b[1;32m    905\u001b[0m     \u001b[39mexcept\u001b[39;00m \u001b[39mValueError\u001b[39;00m \u001b[39mas\u001b[39;00m err:\n\u001b[1;32m    906\u001b[0m         \u001b[39mraise\u001b[39;00m \u001b[39mValueError\u001b[39;00m(\n\u001b[1;32m    907\u001b[0m             \u001b[39m\"\u001b[39m\u001b[39mLocation based indexing can only have \u001b[39m\u001b[39m\"\u001b[39m\n\u001b[1;32m    908\u001b[0m             \u001b[39mf\u001b[39m\u001b[39m\"\u001b[39m\u001b[39m[\u001b[39m\u001b[39m{\u001b[39;00m\u001b[39mself\u001b[39m\u001b[39m.\u001b[39m_valid_types\u001b[39m}\u001b[39;00m\u001b[39m] types\u001b[39m\u001b[39m\"\u001b[39m\n\u001b[1;32m    909\u001b[0m         ) \u001b[39mfrom\u001b[39;00m \u001b[39merr\u001b[39;00m\n",
      "File \u001b[0;32m~/Library/Python/3.9/lib/python/site-packages/pandas/core/indexing.py:1496\u001b[0m, in \u001b[0;36m_iLocIndexer._validate_key\u001b[0;34m(self, key, axis)\u001b[0m\n\u001b[1;32m   1494\u001b[0m     \u001b[39mreturn\u001b[39;00m\n\u001b[1;32m   1495\u001b[0m \u001b[39melif\u001b[39;00m is_integer(key):\n\u001b[0;32m-> 1496\u001b[0m     \u001b[39mself\u001b[39;49m\u001b[39m.\u001b[39;49m_validate_integer(key, axis)\n\u001b[1;32m   1497\u001b[0m \u001b[39melif\u001b[39;00m \u001b[39misinstance\u001b[39m(key, \u001b[39mtuple\u001b[39m):\n\u001b[1;32m   1498\u001b[0m     \u001b[39m# a tuple should already have been caught by this point\u001b[39;00m\n\u001b[1;32m   1499\u001b[0m     \u001b[39m# so don't treat a tuple as a valid indexer\u001b[39;00m\n\u001b[1;32m   1500\u001b[0m     \u001b[39mraise\u001b[39;00m IndexingError(\u001b[39m\"\u001b[39m\u001b[39mToo many indexers\u001b[39m\u001b[39m\"\u001b[39m)\n",
      "File \u001b[0;32m~/Library/Python/3.9/lib/python/site-packages/pandas/core/indexing.py:1589\u001b[0m, in \u001b[0;36m_iLocIndexer._validate_integer\u001b[0;34m(self, key, axis)\u001b[0m\n\u001b[1;32m   1587\u001b[0m len_axis \u001b[39m=\u001b[39m \u001b[39mlen\u001b[39m(\u001b[39mself\u001b[39m\u001b[39m.\u001b[39mobj\u001b[39m.\u001b[39m_get_axis(axis))\n\u001b[1;32m   1588\u001b[0m \u001b[39mif\u001b[39;00m key \u001b[39m>\u001b[39m\u001b[39m=\u001b[39m len_axis \u001b[39mor\u001b[39;00m key \u001b[39m<\u001b[39m \u001b[39m-\u001b[39mlen_axis:\n\u001b[0;32m-> 1589\u001b[0m     \u001b[39mraise\u001b[39;00m \u001b[39mIndexError\u001b[39;00m(\u001b[39m\"\u001b[39m\u001b[39msingle positional indexer is out-of-bounds\u001b[39m\u001b[39m\"\u001b[39m)\n",
      "\u001b[0;31mIndexError\u001b[0m: single positional indexer is out-of-bounds"
     ]
    }
   ],
   "source": [
    "def calculate_user_rating(userid, similarity_mtx, utility):\n",
    "    user_rating = utility.iloc[:,userid-1]\n",
    "    pred_rating = deepcopy(user_rating)\n",
    "    \n",
    "    default_rating = user_rating[user_rating>0].mean()\n",
    "    numerate = np.dot(similarity_mtx, user_rating)\n",
    "    corr_sim = similarity_mtx[:, user_rating >0]\n",
    "    for i,ix in enumerate(pred_rating):\n",
    "        temp = 0\n",
    "        if ix < 1:\n",
    "            w_r = numerate[i]\n",
    "            sum_w = corr_sim[i,:].sum()\n",
    "            if w_r == 0 or sum_w == 0:\n",
    "                temp = default_rating\n",
    "            else:\n",
    "                temp = w_r / sum_w\n",
    "            pred_rating.iloc[i] = temp\n",
    "    return pred_rating\n",
    "\n",
    "\n",
    "def recommendation_to_user(userid, top_n, similarity_mtx, utility):\n",
    "    user_rating = utility.iloc[:,userid-1]\n",
    "    pred_rating = calculate_user_rating(userid, similarity_mtx, utility)\n",
    "\n",
    "    top_item = sorted(range(1,len(pred_rating)), key = lambda i: -1*pred_rating.iloc[i])\n",
    "    top_item = list(filter(lambda x: user_rating.iloc[x]==0, top_item))[:top_n]\n",
    "    res = []\n",
    "    for i in top_item:\n",
    "        res.append(tuple([b['id'].index[i-1], pred_rating.iloc[i]]))\n",
    "    \n",
    "    return res\n",
    "\n",
    "recommendation_to_user(3,20,similarity_mtx, utility)"
   ]
  },
  {
   "cell_type": "code",
   "execution_count": 223,
   "metadata": {},
   "outputs": [
    {
     "name": "stdout",
     "output_type": "stream",
     "text": [
      "mkdir: artifacts: File exists\n"
     ]
    }
   ],
   "source": [
    "import pickle\n",
    "!mkdir artifacts\n",
    "pickle.dump(recommendation_to_user, open('artifacts/model.pkl', 'wb'))\n",
    "pickle.dump(similarity_mtx, open('artifacts/matrix.pkl', 'wb'))\n",
    "pickle.dump(utility, open('artifacts/utility.pkl', 'wb'))\n",
    "\n",
    "\n"
   ]
  }
 ],
 "metadata": {
  "kernelspec": {
   "display_name": "Python 3",
   "language": "python",
   "name": "python3"
  },
  "language_info": {
   "codemirror_mode": {
    "name": "ipython",
    "version": 3
   },
   "file_extension": ".py",
   "mimetype": "text/x-python",
   "name": "python",
   "nbconvert_exporter": "python",
   "pygments_lexer": "ipython3",
   "version": "3.9.6"
  }
 },
 "nbformat": 4,
 "nbformat_minor": 2
}
